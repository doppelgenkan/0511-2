{
 "cells": [
  {
   "cell_type": "markdown",
   "metadata": {},
   "source": [
    "# 生体活動計測分析法演習レポート"
   ]
  },
  {
   "cell_type": "markdown",
   "metadata": {},
   "source": [
    "## 数値積分について"
   ]
  },
  {
   "cell_type": "markdown",
   "metadata": {},
   "source": [
    "学籍番号：181P099  \n",
    "氏　　名：橘　浩久"
   ]
  },
  {
   "cell_type": "markdown",
   "metadata": {},
   "source": [
    "### 1. 目的"
   ]
  },
  {
   "cell_type": "markdown",
   "metadata": {},
   "source": [
    "角速度センサーから得られた角速度データから角度を求めるために，数理積分の原理を理解する。"
   ]
  },
  {
   "cell_type": "markdown",
   "metadata": {},
   "source": [
    "### 2. 方法"
   ]
  },
  {
   "cell_type": "markdown",
   "metadata": {},
   "source": [
    "　データフレームから角速度のz成分を取り出し，numpy配列に変換しておく。  \n",
    " 　データフレーム変数`'omega_z'`でデータフレームの指定項目名のデータ列を取り出す。取り出したデータ列はpandasのSiriesというオブジェクト(`pandas.core.series.Series`)である。このSiriesにnp.array関数を適用すると，Numpy配列に変換される。もし，角運動がz軸のまわりの運動とみなせるとき，その(1次元)Numpy配列は，角速度時系列配列として取り扱うことができ，数値積分して角の大きさを得ることができる。  "
   ]
  },
  {
   "cell_type": "markdown",
   "metadata": {},
   "source": [
    "### 3. 数値積分の原理"
   ]
  },
  {
   "cell_type": "markdown",
   "metadata": {},
   "source": [
    "　1000Hzの１次元角速度を${\\zeta_i}$とする（$i$は時刻番号）。そのとき，リーマン和の原理より，\n",
    " $$\n",
    " \\int \\omega (t) dt \\simeq \\theta_i = \\theta_{i-1}+s_i \\tag{1}\n",
    " $$\n",
    "$\\theta_i$は時刻$t_i$での角度の大きさである。つまり，積分の$t_0$~$t_i$までの積分の値$\\theta_{i-1}$が計算されているとき，目的の積分値$\\theta_{i}$は$\\theta_{i-1}$に台形\n",
    "$$\n",
    "s_i=\\frac{1}{2}(\\zeta_{i-1}+\\zeta_{i})\\tau\n",
    "$$\n",
    "を加えたものである（図1）。ここで，$\\tau$は微小時間間隔で1000Hzの場合，1/1000[sec]ということになる。ただし，startpointとなる$t_0$における，$\\theta_0$は，既知である。\n",
    "<img src=\"fig001.png\" width=\"300\">\n",
    "<center>図1．台形を用いたリーマン和による数値積分</center>"
   ]
  },
  {
   "cell_type": "markdown",
   "metadata": {},
   "source": [
    "### 4. 数値積分のプログラム"
   ]
  },
  {
   "cell_type": "markdown",
   "metadata": {},
   "source": [
    "　セクション3にもとづいたときの積分アルゴリズムを図2に示す。\n",
    " \n",
    " <img src=\"fig002.png\" width= 500>\n",
    " <center>図2．数値積分アルゴリズム(台形公式)</center>\n",
    " \n",
    "　さらに，アルゴリズム図2にしたがって作成した積分計算関数`integral`のPythonコードをリスト１に示す。"
   ]
  },
  {
   "cell_type": "markdown",
   "metadata": {},
   "source": [
    " <center>リスト１：Pythonを用いた数値計算プログラム</center>  \n",
    " \n",
    " ******  \n",
    " ```\n",
    " import numpy as np\n",
    "\n",
    "def integral(x, s0, startindex, endindex, tau=0.001):\n",
    "    '''\n",
    "    Return 被積分データ配列xの台形則にもとずく積分データ配列.\n",
    "    \n",
    "    Parameters\n",
    "    ----------\n",
    "    x : array-like\n",
    "        被積分データ配列.\n",
    "    s0 : int or float\n",
    "        初期値(積分定数).\n",
    "    statindex : int\n",
    "        被積分データ配列xの最初のindex.\n",
    "    endpoint : int\n",
    "        被積分データ配列xの最後のindex.\n",
    "    tau : float, optional (0.001)\n",
    "        積分区切り幅.\n",
    "    '''\n",
    "    s = s0\n",
    "    s_arr = [s0]\n",
    "    for i in range(startindex, endindex+1):\n",
    "        s += (x[i] + x[i+1]) / 2 * tau\n",
    "        s_arr.append(s)\n",
    "    return np.array(s_arr)\n",
    "```\n",
    "****"
   ]
  },
  {
   "cell_type": "code",
   "execution_count": null,
   "metadata": {},
   "outputs": [],
   "source": []
  }
 ],
 "metadata": {
  "kernelspec": {
   "display_name": "Python 3",
   "language": "python",
   "name": "python3"
  },
  "language_info": {
   "codemirror_mode": {
    "name": "ipython",
    "version": 3
   },
   "file_extension": ".py",
   "mimetype": "text/x-python",
   "name": "python",
   "nbconvert_exporter": "python",
   "pygments_lexer": "ipython3",
   "version": "3.7.7"
  }
 },
 "nbformat": 4,
 "nbformat_minor": 4
}
